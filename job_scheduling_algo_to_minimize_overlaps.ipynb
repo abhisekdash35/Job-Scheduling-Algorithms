{
 "cells": [
  {
   "cell_type": "markdown",
   "metadata": {},
   "source": [
    "# The Algorithm:\n",
    "1) Sort the jobs in descending order of execution time.\n",
    "\n",
    "2) Take the first job and try to club as many jobs sequentially as possible without overshooting the schedule end time.\n",
    "\n",
    "3) If you overshoot the schedule end time reset job start times to schedule start for the next job.\n",
    "\n",
    "4) Repeat step 2 and  3 until all jobs are scheduled."
   ]
  },
  {
   "cell_type": "code",
   "execution_count": 1,
   "metadata": {},
   "outputs": [],
   "source": [
    "import operator"
   ]
  },
  {
   "cell_type": "code",
   "execution_count": 2,
   "metadata": {},
   "outputs": [],
   "source": [
    "schedule_start = 0\n",
    "schedule_end = 24\n",
    "\n",
    "# Job Ids with job duration in hours\n",
    "jobs = {\"J1\":5,\"J2\":16,\"J3\":18,\"J4\":20}"
   ]
  },
  {
   "cell_type": "code",
   "execution_count": 3,
   "metadata": {},
   "outputs": [],
   "source": [
    "def schedule_jobs(jobs,schedule_start,schedule_end):\n",
    "    # Sort dictionary by descending order of job duration \n",
    "    jobs_desc = dict( sorted(jobs.items(), key=operator.itemgetter(1),reverse=True))\n",
    "    schedules = {}\n",
    "    already_scheduled_jobs = set()\n",
    "\n",
    "    for job,duration in jobs_desc.items():\n",
    "        # Try to schedule primary job if not scheduled\n",
    "        if job not in already_scheduled_jobs:\n",
    "            running_schedule_start = schedule_start\n",
    "            schedules[job] = [running_schedule_start,running_schedule_start+duration]\n",
    "            running_schedule_start = running_schedule_start + duration\n",
    "            already_scheduled_jobs.add(job)\n",
    "\n",
    "            for job_,duration_ in jobs_desc.items():\n",
    "\n",
    "                if job == job_ or job_ in already_scheduled_jobs:\n",
    "                    continue\n",
    "\n",
    "                # Try to schedule any other job that might fit with primary job\n",
    "                if running_schedule_start + duration_ <= schedule_end:\n",
    "                    schedules[job_] = [running_schedule_start,running_schedule_start + duration_]\n",
    "                    already_scheduled_jobs.add(job_)\n",
    "                    running_schedule_start = running_schedule_start + duration_\n",
    "    return schedules"
   ]
  },
  {
   "cell_type": "code",
   "execution_count": 4,
   "metadata": {},
   "outputs": [
    {
     "data": {
      "text/plain": [
       "{'J4': [0, 20], 'J3': [0, 18], 'J1': [18, 23], 'J2': [0, 16]}"
      ]
     },
     "execution_count": 4,
     "metadata": {},
     "output_type": "execute_result"
    }
   ],
   "source": [
    "schedule_jobs(jobs,schedule_start,schedule_end)"
   ]
  },
  {
   "cell_type": "code",
   "execution_count": null,
   "metadata": {},
   "outputs": [],
   "source": []
  }
 ],
 "metadata": {
  "kernelspec": {
   "display_name": "Python 3",
   "language": "python",
   "name": "python3"
  },
  "language_info": {
   "codemirror_mode": {
    "name": "ipython",
    "version": 3
   },
   "file_extension": ".py",
   "mimetype": "text/x-python",
   "name": "python",
   "nbconvert_exporter": "python",
   "pygments_lexer": "ipython3",
   "version": "3.8.3"
  }
 },
 "nbformat": 4,
 "nbformat_minor": 4
}
